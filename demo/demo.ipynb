{
 "cells": [
  {
   "cell_type": "markdown",
   "metadata": {},
   "source": [
    "## Quantile Recalibration Training demo\n",
    "\n",
    "This notebook contains minimal code to train a model using Quantile Recalibration Training (QRT) with PyTorch Lightning.\n",
    "The implementation of the recalibrator is available in the file `QRT.py`."
   ]
  },
  {
   "cell_type": "code",
   "execution_count": 1,
   "metadata": {},
   "outputs": [
    {
     "name": "stderr",
     "output_type": "stream",
     "text": [
      "Global seed set to 0\n"
     ]
    }
   ],
   "source": [
    "import warnings\n",
    "import logging\n",
    "import shutil\n",
    "from collections import defaultdict\n",
    "from tqdm import tqdm\n",
    "import numpy as np\n",
    "import pandas as pd\n",
    "from scipy.stats import sem\n",
    "import matplotlib.pyplot as plt\n",
    "import seaborn as sns\n",
    "import torch\n",
    "from torch import nn\n",
    "from torch.nn import functional as F\n",
    "from torch.distributions import Normal, Categorical, MixtureSameFamily\n",
    "import pytorch_lightning as pl\n",
    "from pytorch_lightning import Trainer\n",
    "from pytorch_lightning.callbacks import ModelCheckpoint, EarlyStopping\n",
    "from pytorch_lightning.utilities.warnings import PossibleUserWarning\n",
    "\n",
    "from QRT import Recalibrator\n",
    "from datamodule import CustomDataModule\n",
    "\n",
    "pl.seed_everything(0)\n",
    "warnings.filterwarnings('ignore', category=PossibleUserWarning)\n",
    "logging.getLogger('pytorch_lightning').setLevel(logging.WARNING)"
   ]
  },
  {
   "cell_type": "markdown",
   "metadata": {},
   "source": [
    "### Data loading"
   ]
  },
  {
   "cell_type": "markdown",
   "metadata": {},
   "source": [
    "We select the dataset `house_prices_nominal`, where QRT demonstrated a significant NLL improvement in our paper."
   ]
  },
  {
   "cell_type": "code",
   "execution_count": 2,
   "metadata": {},
   "outputs": [],
   "source": [
    "datamodule = CustomDataModule(ds_id=361083)"
   ]
  },
  {
   "cell_type": "markdown",
   "metadata": {},
   "source": [
    "### Metrics"
   ]
  },
  {
   "cell_type": "code",
   "execution_count": 3,
   "metadata": {},
   "outputs": [],
   "source": [
    "def compute_nll(dist, y):\n",
    "    return -dist.log_prob(y).mean()\n",
    "\n",
    "def compute_pce(dist, y):\n",
    "    pit = dist.cdf(y)\n",
    "    sorted_pit = torch.sort(pit, dim=-1)[0]\n",
    "    n = pit.shape[-1]\n",
    "    lin = (torch.arange(n) + 1) / (n + 1)\n",
    "    return (sorted_pit - lin).abs().mean()"
   ]
  },
  {
   "cell_type": "markdown",
   "metadata": {},
   "source": [
    "### Base model"
   ]
  },
  {
   "cell_type": "code",
   "execution_count": 4,
   "metadata": {},
   "outputs": [],
   "source": [
    "class MixturePredictionMLP(nn.Module):\n",
    "    def __init__(self, input_size=1, hidden_sizes=[128, 128, 128], drop_prob=0.1, mixture_size=3):\n",
    "        super().__init__()\n",
    "        self.mixture_size = mixture_size\n",
    "        self.hidden_layers = nn.ModuleList()\n",
    "        current_input_size = input_size\n",
    "        for hidden_size in hidden_sizes:\n",
    "            self.hidden_layers.append(nn.Linear(current_input_size, hidden_size))\n",
    "            current_input_size = hidden_size\n",
    "        self.dropout_layer = nn.Dropout(p=drop_prob)\n",
    "        self.output_layer = nn.Linear(current_input_size, 3 * mixture_size)\n",
    "\n",
    "    def forward(self, x):\n",
    "        for layer in self.hidden_layers:\n",
    "            x = layer(x)\n",
    "            x = F.relu(x)\n",
    "        x = self.dropout_layer(x)\n",
    "        x = self.output_layer(x)\n",
    "        means, rhos, mix_logits = torch.split(x, 3, dim=-1)\n",
    "        stds = F.softplus(rhos) + 1e-4\n",
    "        return MixtureSameFamily(Categorical(logits=mix_logits), Normal(means, stds))"
   ]
  },
  {
   "cell_type": "markdown",
   "metadata": {},
   "source": [
    "### Training procedure"
   ]
  },
  {
   "cell_type": "code",
   "execution_count": 5,
   "metadata": {},
   "outputs": [],
   "source": [
    "class QRTModule(pl.LightningModule):\n",
    "    def __init__(self, model, qrt=False, qr=False):\n",
    "        \"\"\"\n",
    "        qrt: whether to use the current batch for recalibration during training\n",
    "        qr: whether to use the calibration dataset for post-hoc recalibration\n",
    "        \"\"\"\n",
    "        super().__init__()\n",
    "        self.model = model\n",
    "        self.qrt = qrt\n",
    "        self.qr = qr\n",
    "        self.posthoc_calibration_map = None\n",
    "    \n",
    "    def forward(self, x):\n",
    "        dist = self.model(x)\n",
    "        if self.posthoc_calibration_map is None:\n",
    "            self.build_posthoc_calibration_map()\n",
    "        if self.qrt or self.qr:\n",
    "            dist = self.posthoc_calibration_map(dist)\n",
    "        return dist\n",
    "\n",
    "    def training_step(self, batch, batch_idx):\n",
    "        x, y = batch\n",
    "        dist = self.model(x)\n",
    "        if self.qrt:\n",
    "            pit = dist.cdf(y)\n",
    "            dist = Recalibrator(pit)(dist)\n",
    "        loss = compute_nll(dist, y)\n",
    "        return loss\n",
    "\n",
    "    def on_validation_start(self):\n",
    "        if self.qrt:\n",
    "            x, y = next(iter(self.trainer.datamodule.train_dataloader()))\n",
    "            dist = self.model(x)\n",
    "            pit = dist.cdf(y)\n",
    "            self.calibration_map = Recalibrator(pit)\n",
    "\n",
    "    def validation_step(self, batch, batch_idx):\n",
    "        x, y = batch\n",
    "        dist = self.model(x)\n",
    "        if self.qrt:\n",
    "            dist = self.calibration_map(dist)\n",
    "        loss = compute_nll(dist, y)\n",
    "        self.log('val/nll', loss, on_step=False, on_epoch=True)\n",
    "        return loss\n",
    "    \n",
    "    def build_posthoc_calibration_map(self):\n",
    "        if self.qrt or self.qr:\n",
    "            if self.qr:\n",
    "                # In case of QR (potientially with QRT), we use the calibration dataset for recalibration\n",
    "                x, y = next(iter(self.trainer.datamodule.calib_dataloader()))\n",
    "            elif self.qrt:\n",
    "                # In case QRT is enabled without QR, we use the training dataset for recalibration\n",
    "                x, y = next(iter(self.trainer.datamodule.train_dataloader()))\n",
    "            with torch.no_grad():\n",
    "                dist = self.model(x)\n",
    "            pit = dist.cdf(y)\n",
    "            self.posthoc_calibration_map = Recalibrator(pit)\n",
    "\n",
    "    def on_test_start(self):\n",
    "        self.build_posthoc_calibration_map()\n",
    "    \n",
    "    def test_step(self, batch, batch_idx):\n",
    "        x, y = batch\n",
    "        dist = self.model(x)\n",
    "        if self.qrt or self.qr:\n",
    "            dist = self.posthoc_calibration_map(dist)\n",
    "        loss = compute_nll(dist, y)\n",
    "        pce = compute_pce(dist, y)\n",
    "        self.log('test/nll', loss, on_step=False, on_epoch=True)\n",
    "        self.log('test/pce', pce, on_step=False, on_epoch=True)\n",
    "        return loss\n",
    "\n",
    "    def configure_optimizers(self):\n",
    "        return torch.optim.Adam(self.model.parameters(), lr=1e-3)"
   ]
  },
  {
   "cell_type": "code",
   "execution_count": 6,
   "metadata": {},
   "outputs": [],
   "source": [
    "def train(model):\n",
    "    mc = ModelCheckpoint(\n",
    "        dirpath='checkpoints',\n",
    "        mode='min',\n",
    "        monitor='val/nll',\n",
    "        save_top_k=1,\n",
    "        save_last=False,\n",
    "        verbose=False,\n",
    "        auto_insert_metric_name=False,\n",
    "    )\n",
    "\n",
    "    es = EarlyStopping(\n",
    "        mode='min',\n",
    "        monitor='val/nll',\n",
    "        patience=15,\n",
    "    )\n",
    "\n",
    "    trainer = Trainer(\n",
    "        max_epochs=-1,\n",
    "        callbacks=[mc, es],\n",
    "        accelerator='cpu',\n",
    "        devices=1,\n",
    "        check_val_every_n_epoch=2,\n",
    "        enable_model_summary=False,\n",
    "        enable_progress_bar=False,\n",
    "        logger=False,\n",
    "    )\n",
    "\n",
    "    trainer.fit(model=model, datamodule=datamodule)\n",
    "    trainer.test(ckpt_path='best', datamodule=datamodule, verbose=False)\n",
    "    shutil.rmtree('checkpoints')\n",
    "    return trainer"
   ]
  },
  {
   "cell_type": "markdown",
   "metadata": {},
   "source": [
    "### Vanilla model"
   ]
  },
  {
   "cell_type": "code",
   "execution_count": 7,
   "metadata": {},
   "outputs": [
    {
     "name": "stderr",
     "output_type": "stream",
     "text": [
      "/home/victor/miniconda3/envs/uq/lib/python3.10/site-packages/pytorch_lightning/callbacks/model_checkpoint.py:612: UserWarning: Checkpoint directory /home/victor/Downloads/quantile-recalibration-training/demo/checkpoints exists and is not empty.\n",
      "  rank_zero_warn(f\"Checkpoint directory {dirpath} exists and is not empty.\")\n"
     ]
    },
    {
     "data": {
      "text/plain": [
       "{'test/nll': tensor(0.1317), 'test/pce': tensor(0.0189)}"
      ]
     },
     "execution_count": 7,
     "metadata": {},
     "output_type": "execute_result"
    }
   ],
   "source": [
    "mlp = MixturePredictionMLP(datamodule.x_size)\n",
    "# We don't handle it here for simplicity, but in the paper the vanilla module also had access to the\n",
    "# calibration dataset during training.\n",
    "model = QRTModule(mlp)\n",
    "trainer = train(model)\n",
    "trainer.logged_metrics"
   ]
  },
  {
   "cell_type": "markdown",
   "metadata": {},
   "source": [
    "### Quantile Recalibration model"
   ]
  },
  {
   "cell_type": "code",
   "execution_count": 8,
   "metadata": {},
   "outputs": [
    {
     "data": {
      "text/plain": [
       "{'test/nll': tensor(0.1274), 'test/pce': tensor(0.0262)}"
      ]
     },
     "execution_count": 8,
     "metadata": {},
     "output_type": "execute_result"
    }
   ],
   "source": [
    "mlp = MixturePredictionMLP(datamodule.x_size)\n",
    "model = QRTModule(mlp, qr=True)\n",
    "trainer = train(model)\n",
    "trainer.logged_metrics"
   ]
  },
  {
   "cell_type": "markdown",
   "metadata": {},
   "source": [
    "### Quantile Recalibration Training model"
   ]
  },
  {
   "cell_type": "code",
   "execution_count": 9,
   "metadata": {},
   "outputs": [
    {
     "data": {
      "text/plain": [
       "{'test/nll': tensor(0.0299), 'test/pce': tensor(0.0177)}"
      ]
     },
     "execution_count": 9,
     "metadata": {},
     "output_type": "execute_result"
    }
   ],
   "source": [
    "mlp = MixturePredictionMLP(datamodule.x_size)\n",
    "model = QRTModule(mlp, qrt=True, qr=True)\n",
    "trainer = train(model)\n",
    "trainer.logged_metrics"
   ]
  },
  {
   "cell_type": "markdown",
   "metadata": {},
   "source": [
    "### Results on multiple runs"
   ]
  },
  {
   "cell_type": "markdown",
   "metadata": {},
   "source": [
    "To obtain stronger results, we repeat the experiments 50 times."
   ]
  },
  {
   "cell_type": "code",
   "execution_count": 10,
   "metadata": {},
   "outputs": [],
   "source": [
    "def collect_metrics_on_multiple_runs(data, model_name, nb_runs=50, **kwargs):\n",
    "    pl.seed_everything(0)\n",
    "    metrics_dict = defaultdict(list)\n",
    "    for _ in tqdm(range(nb_runs)):\n",
    "        mlp = MixturePredictionMLP(datamodule.x_size)\n",
    "        model = QRTModule(mlp, **kwargs)\n",
    "        trainer = train(model)\n",
    "        metrics = trainer.logged_metrics\n",
    "        for k, v in metrics.items():\n",
    "            data['model'].append(model_name)\n",
    "            data['metric'].append(k)\n",
    "            data['value'].append(v.item())\n",
    "    return metrics_dict"
   ]
  },
  {
   "cell_type": "code",
   "execution_count": 11,
   "metadata": {},
   "outputs": [
    {
     "name": "stderr",
     "output_type": "stream",
     "text": [
      "Global seed set to 0\n",
      "  0%|          | 0/50 [00:00<?, ?it/s]"
     ]
    },
    {
     "name": "stderr",
     "output_type": "stream",
     "text": [
      "100%|██████████| 50/50 [08:56<00:00, 10.74s/it]\n",
      "Global seed set to 0\n",
      "100%|██████████| 50/50 [09:14<00:00, 11.09s/it]\n",
      "Global seed set to 0\n",
      "100%|██████████| 50/50 [10:24<00:00, 12.49s/it]\n"
     ]
    },
    {
     "data": {
      "text/html": [
       "<div>\n",
       "<style scoped>\n",
       "    .dataframe tbody tr th:only-of-type {\n",
       "        vertical-align: middle;\n",
       "    }\n",
       "\n",
       "    .dataframe tbody tr th {\n",
       "        vertical-align: top;\n",
       "    }\n",
       "\n",
       "    .dataframe thead th {\n",
       "        text-align: right;\n",
       "    }\n",
       "</style>\n",
       "<table border=\"1\" class=\"dataframe\">\n",
       "  <thead>\n",
       "    <tr style=\"text-align: right;\">\n",
       "      <th>metric</th>\n",
       "      <th>test/nll</th>\n",
       "      <th>test/pce</th>\n",
       "    </tr>\n",
       "    <tr>\n",
       "      <th>model</th>\n",
       "      <th></th>\n",
       "      <th></th>\n",
       "    </tr>\n",
       "  </thead>\n",
       "  <tbody>\n",
       "    <tr>\n",
       "      <th>QR</th>\n",
       "      <td>0.0972 ± 0.0078</td>\n",
       "      <td>0.0195 ± 0.0009</td>\n",
       "    </tr>\n",
       "    <tr>\n",
       "      <th>QRT</th>\n",
       "      <td>0.0281 ± 0.0031</td>\n",
       "      <td>0.0215 ± 0.0005</td>\n",
       "    </tr>\n",
       "    <tr>\n",
       "      <th>vanilla</th>\n",
       "      <td>0.0951 ± 0.0054</td>\n",
       "      <td>0.0272 ± 0.0020</td>\n",
       "    </tr>\n",
       "  </tbody>\n",
       "</table>\n",
       "</div>"
      ],
      "text/plain": [
       "metric          test/nll         test/pce\n",
       "model                                    \n",
       "QR       0.0972 ± 0.0078  0.0195 ± 0.0009\n",
       "QRT      0.0281 ± 0.0031  0.0215 ± 0.0005\n",
       "vanilla  0.0951 ± 0.0054  0.0272 ± 0.0020"
      ]
     },
     "execution_count": 11,
     "metadata": {},
     "output_type": "execute_result"
    }
   ],
   "source": [
    "data = {'model': [], 'metric': [], 'value': []}\n",
    "collect_metrics_on_multiple_runs(data, 'vanilla')\n",
    "collect_metrics_on_multiple_runs(data, 'QR', qr=True)\n",
    "collect_metrics_on_multiple_runs(data, 'QRT', qrt=True, qr=True)\n",
    "df = pd.DataFrame(data)\n",
    "aggfunc = lambda x: f'{np.mean(x):.4f} ± {sem(x):.4f}'\n",
    "df.pivot_table(index='model', columns='metric', values='value', aggfunc=aggfunc)"
   ]
  },
  {
   "cell_type": "code",
   "execution_count": 12,
   "metadata": {},
   "outputs": [
    {
     "data": {
      "image/png": "[encoded data removed]",
      "text/plain": [
       "<Figure size 700x250 with 1 Axes>"
      ]
     },
     "metadata": {},
     "output_type": "display_data"
    },
    {
     "data": {
      "image/png": "[encoded data removed]",
      "text/plain": [
       "<Figure size 700x250 with 1 Axes>"
      ]
     },
     "metadata": {},
     "output_type": "display_data"
    }
   ],
   "source": [
    "for metric in df['metric'].unique():\n",
    "    fig, ax = plt.subplots(figsize=(7, 2.5))\n",
    "    sns.histplot(data=df.query('metric == @metric'), x='value', hue='model', kde=True, bins=30, legend=True)\n",
    "    ax.set_title(metric)"
   ]
  },
  {
   "cell_type": "markdown",
   "metadata": {},
   "source": [
    "We notice that the NLL of QRT is significantly improved compared to both vanilla and QR. In this case, the PCE of QRT is slightly worse than QR but not significantly different. Both QRT and QR obtain an improved PCE compared to the vanilla model."
   ]
  }
 ],
 "metadata": {
  "kernelspec": {
   "display_name": "uq",
   "language": "python",
   "name": "python3"
  },
  "language_info": {
   "codemirror_mode": {
    "name": "ipython",
    "version": 3
   },
   "file_extension": ".py",
   "mimetype": "text/x-python",
   "name": "python",
   "nbconvert_exporter": "python",
   "pygments_lexer": "ipython3",
   "version": "3.10.11"
  }
 },
 "nbformat": 4,
 "nbformat_minor": 2
}
